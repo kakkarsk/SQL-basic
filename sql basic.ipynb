{
 "cells": [
  {
   "cell_type": "markdown",
   "metadata": {},
   "source": [
    "1. The IDs and durations for all trips of duration greater than 500, ordered by duration.\n",
    "SELECT\n",
    "\t\ttrip_id,\n",
    "\t\tduration\n",
    "FROM\n",
    "\t\ttrips\n",
    "WHERE\n",
    "\t\tduration >500\n",
    "ORDER BY duration DESC\n",
    "\n",
    "2. Every column of the stations table for station id 84.\n",
    "SELECT\n",
    "\t\t*\n",
    "FROM\n",
    "\t\tstations\n",
    "WHERE\n",
    "\t\tstation_id = 84\n",
    "\n",
    "3. The min temperatures of all the occurrences of rain in zip 94301.\n",
    "SELECT\n",
    "\t\tMinTemperatureF\n",
    "FROM\n",
    "\t\tweather\n",
    "WHERE\n",
    "\t\tZIP = '94301' AND\n",
    "\t\tEvents like '%Rain%'"
   ]
  }
 ],
 "metadata": {
  "kernelspec": {
   "display_name": "Python 3",
   "language": "python",
   "name": "python3"
  },
  "language_info": {
   "codemirror_mode": {
    "name": "ipython",
    "version": 3
   },
   "file_extension": ".py",
   "mimetype": "text/x-python",
   "name": "python",
   "nbconvert_exporter": "python",
   "pygments_lexer": "ipython3",
   "version": "3.6.5"
  }
 },
 "nbformat": 4,
 "nbformat_minor": 2
}
