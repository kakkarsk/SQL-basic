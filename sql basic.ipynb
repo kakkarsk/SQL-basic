{
 "cells": [
  {
   "cell_type": "markdown",
   "metadata": {},
   "source": [
    "1. The IDs and durations for all trips of duration greater than 500, ordered by duration.\n",
    "\n",
    "\n",
    "SELECT  trip_id,duration\n",
    "\n",
    "FROM trips\n",
    "\n",
    "WHERE  duration >500 ORDER BY duration DESC\n",
    "\n",
    "\n",
    "2. Every column of the stations table for station id 84.\n",
    "\n",
    "\n",
    "SELECT * FROM trips\n",
    "\n",
    "WHERE station_id = 84\n",
    "\n",
    "\n",
    "3. The min temperatures of all the occurrences of rain in zip 94301.\n",
    "\n",
    "\n",
    "SELECT  MinTemperatureF\n",
    "\n",
    "FROM   weather\n",
    "\n",
    "WHERE  ZIP = '94301' AND  Events like '%Rain%'"
   ]
  }
 ],
 "metadata": {
  "kernelspec": {
   "display_name": "Python 3",
   "language": "python",
   "name": "python3"
  },
  "language_info": {
   "codemirror_mode": {
    "name": "ipython",
    "version": 3
   },
   "file_extension": ".py",
   "mimetype": "text/x-python",
   "name": "python",
   "nbconvert_exporter": "python",
   "pygments_lexer": "ipython3",
   "version": "3.6.5"
  }
 },
 "nbformat": 4,
 "nbformat_minor": 2
}
